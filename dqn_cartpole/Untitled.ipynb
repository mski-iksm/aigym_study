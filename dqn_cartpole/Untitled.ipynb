{
 "cells": [
  {
   "cell_type": "code",
   "execution_count": 1,
   "metadata": {},
   "outputs": [
    {
     "name": "stderr",
     "output_type": "stream",
     "text": [
      "Using TensorFlow backend.\n"
     ]
    },
    {
     "name": "stdout",
     "output_type": "stream",
     "text": [
      "0 Episode finished after 18.000000 time steps / mean 1.800000\n",
      "1 Episode finished after 9.000000 time steps / mean 2.700000\n",
      "2 Episode finished after 9.000000 time steps / mean 3.600000\n",
      "3 Episode finished after 8.000000 time steps / mean 4.400000\n",
      "4 Episode finished after 8.000000 time steps / mean 5.200000\n",
      "5 Episode finished after 10.000000 time steps / mean 6.200000\n",
      "6 Episode finished after 9.000000 time steps / mean 7.100000\n",
      "7 Episode finished after 9.000000 time steps / mean 8.000000\n",
      "8 Episode finished after 8.000000 time steps / mean 8.800000\n",
      "9 Episode finished after 9.000000 time steps / mean 9.700000\n",
      "10 Episode finished after 11.000000 time steps / mean 9.000000\n",
      "11 Episode finished after 9.000000 time steps / mean 9.000000\n",
      "12 Episode finished after 10.000000 time steps / mean 9.100000\n",
      "13 Episode finished after 10.000000 time steps / mean 9.300000\n",
      "14 Episode finished after 9.000000 time steps / mean 9.400000\n",
      "15 Episode finished after 9.000000 time steps / mean 9.300000\n",
      "16 Episode finished after 9.000000 time steps / mean 9.300000\n",
      "17 Episode finished after 8.000000 time steps / mean 9.200000\n",
      "18 Episode finished after 7.000000 time steps / mean 9.100000\n",
      "19 Episode finished after 20.000000 time steps / mean 10.200000\n",
      "20 Episode finished after 7.000000 time steps / mean 9.800000\n",
      "21 Episode finished after 10.000000 time steps / mean 9.900000\n",
      "22 Episode finished after 9.000000 time steps / mean 9.800000\n",
      "23 Episode finished after 8.000000 time steps / mean 9.600000\n",
      "24 Episode finished after 7.000000 time steps / mean 9.400000\n",
      "25 Episode finished after 14.000000 time steps / mean 9.900000\n",
      "26 Episode finished after 10.000000 time steps / mean 10.000000\n",
      "27 Episode finished after 10.000000 time steps / mean 10.200000\n",
      "28 Episode finished after 12.000000 time steps / mean 10.700000\n",
      "29 Episode finished after 9.000000 time steps / mean 9.600000\n",
      "30 Episode finished after 10.000000 time steps / mean 9.900000\n",
      "31 Episode finished after 8.000000 time steps / mean 9.700000\n",
      "32 Episode finished after 12.000000 time steps / mean 10.000000\n",
      "33 Episode finished after 10.000000 time steps / mean 10.200000\n",
      "34 Episode finished after 12.000000 time steps / mean 10.700000\n",
      "35 Episode finished after 11.000000 time steps / mean 10.400000\n",
      "36 Episode finished after 8.000000 time steps / mean 10.200000\n",
      "37 Episode finished after 10.000000 time steps / mean 10.200000\n",
      "38 Episode finished after 10.000000 time steps / mean 10.000000\n",
      "39 Episode finished after 9.000000 time steps / mean 10.000000\n",
      "40 Episode finished after 8.000000 time steps / mean 9.800000\n",
      "41 Episode finished after 10.000000 time steps / mean 10.000000\n",
      "42 Episode finished after 9.000000 time steps / mean 9.700000\n",
      "43 Episode finished after 12.000000 time steps / mean 9.900000\n",
      "44 Episode finished after 12.000000 time steps / mean 9.900000\n",
      "45 Episode finished after 11.000000 time steps / mean 9.900000\n",
      "46 Episode finished after 10.000000 time steps / mean 10.100000\n",
      "47 Episode finished after 11.000000 time steps / mean 10.200000\n",
      "48 Episode finished after 8.000000 time steps / mean 10.000000\n",
      "49 Episode finished after 10.000000 time steps / mean 10.100000\n",
      "50 Episode finished after 7.000000 time steps / mean 10.000000\n",
      "51 Episode finished after 12.000000 time steps / mean 10.200000\n",
      "52 Episode finished after 11.000000 time steps / mean 10.400000\n",
      "53 Episode finished after 14.000000 time steps / mean 10.600000\n",
      "54 Episode finished after 11.000000 time steps / mean 10.500000\n",
      "55 Episode finished after 8.000000 time steps / mean 10.200000\n",
      "56 Episode finished after 11.000000 time steps / mean 10.300000\n",
      "57 Episode finished after 7.000000 time steps / mean 9.900000\n",
      "58 Episode finished after 9.000000 time steps / mean 10.000000\n",
      "59 Episode finished after 10.000000 time steps / mean 10.000000\n",
      "60 Episode finished after 9.000000 time steps / mean 10.200000\n",
      "61 Episode finished after 7.000000 time steps / mean 9.700000\n",
      "62 Episode finished after 11.000000 time steps / mean 9.700000\n",
      "63 Episode finished after 9.000000 time steps / mean 9.200000\n",
      "64 Episode finished after 11.000000 time steps / mean 9.200000\n",
      "65 Episode finished after 8.000000 time steps / mean 9.200000\n",
      "66 Episode finished after 10.000000 time steps / mean 9.100000\n",
      "67 Episode finished after 8.000000 time steps / mean 9.200000\n",
      "68 Episode finished after 7.000000 time steps / mean 9.000000\n",
      "69 Episode finished after 9.000000 time steps / mean 8.900000\n",
      "70 Episode finished after 10.000000 time steps / mean 9.000000\n",
      "71 Episode finished after 11.000000 time steps / mean 9.400000\n",
      "72 Episode finished after 8.000000 time steps / mean 9.100000\n",
      "73 Episode finished after 8.000000 time steps / mean 9.000000\n",
      "74 Episode finished after 8.000000 time steps / mean 8.700000\n",
      "75 Episode finished after 12.000000 time steps / mean 9.100000\n",
      "76 Episode finished after 10.000000 time steps / mean 9.100000\n",
      "77 Episode finished after 8.000000 time steps / mean 9.100000\n",
      "78 Episode finished after 10.000000 time steps / mean 9.400000\n",
      "79 Episode finished after 9.000000 time steps / mean 9.400000\n",
      "80 Episode finished after 8.000000 time steps / mean 9.200000\n",
      "81 Episode finished after 9.000000 time steps / mean 9.000000\n",
      "82 Episode finished after 7.000000 time steps / mean 8.900000\n",
      "83 Episode finished after 12.000000 time steps / mean 9.300000\n",
      "84 Episode finished after 11.000000 time steps / mean 9.600000\n",
      "85 Episode finished after 12.000000 time steps / mean 9.600000\n",
      "86 Episode finished after 17.000000 time steps / mean 10.300000\n",
      "87 Episode finished after 11.000000 time steps / mean 10.600000\n",
      "88 Episode finished after 9.000000 time steps / mean 10.500000\n",
      "89 Episode finished after 9.000000 time steps / mean 10.500000\n",
      "90 Episode finished after 10.000000 time steps / mean 10.700000\n",
      "91 Episode finished after 11.000000 time steps / mean 10.900000\n",
      "92 Episode finished after 9.000000 time steps / mean 11.100000\n",
      "93 Episode finished after 9.000000 time steps / mean 10.800000\n",
      "94 Episode finished after 11.000000 time steps / mean 10.800000\n",
      "95 Episode finished after 8.000000 time steps / mean 10.400000\n",
      "96 Episode finished after 8.000000 time steps / mean 9.500000\n",
      "97 Episode finished after 14.000000 time steps / mean 9.800000\n",
      "98 Episode finished after 12.000000 time steps / mean 10.100000\n",
      "99 Episode finished after 9.000000 time steps / mean 10.100000\n",
      "100 Episode finished after 10.000000 time steps / mean 10.100000\n",
      "101 Episode finished after 9.000000 time steps / mean 9.900000\n",
      "102 Episode finished after 8.000000 time steps / mean 9.800000\n",
      "103 Episode finished after 11.000000 time steps / mean 10.000000\n",
      "104 Episode finished after 9.000000 time steps / mean 9.800000\n",
      "105 Episode finished after 7.000000 time steps / mean 9.700000\n",
      "106 Episode finished after 8.000000 time steps / mean 9.700000\n",
      "107 Episode finished after 12.000000 time steps / mean 9.500000\n",
      "108 Episode finished after 12.000000 time steps / mean 9.500000\n",
      "109 Episode finished after 8.000000 time steps / mean 9.400000\n",
      "110 Episode finished after 12.000000 time steps / mean 9.600000\n",
      "111 Episode finished after 8.000000 time steps / mean 9.500000\n",
      "112 Episode finished after 9.000000 time steps / mean 9.600000\n"
     ]
    },
    {
     "ename": "KeyboardInterrupt",
     "evalue": "",
     "output_type": "error",
     "traceback": [
      "\u001b[0;31m---------------------------------------------------------------------------\u001b[0m",
      "\u001b[0;31mKeyboardInterrupt\u001b[0m                         Traceback (most recent call last)",
      "\u001b[0;32m<ipython-input-1-719235e88620>\u001b[0m in \u001b[0;36m<module>\u001b[0;34m\u001b[0m\n\u001b[1;32m    146\u001b[0m         \u001b[0;31m# Qネットワークの重みを学習・更新する replay\u001b[0m\u001b[0;34m\u001b[0m\u001b[0;34m\u001b[0m\u001b[0;34m\u001b[0m\u001b[0m\n\u001b[1;32m    147\u001b[0m         \u001b[0;32mif\u001b[0m \u001b[0;34m(\u001b[0m\u001b[0mmemory\u001b[0m\u001b[0;34m.\u001b[0m\u001b[0mlen\u001b[0m\u001b[0;34m(\u001b[0m\u001b[0;34m)\u001b[0m \u001b[0;34m>\u001b[0m \u001b[0mbatch_size\u001b[0m\u001b[0;34m)\u001b[0m \u001b[0;32mand\u001b[0m \u001b[0;32mnot\u001b[0m \u001b[0mislearned\u001b[0m\u001b[0;34m:\u001b[0m\u001b[0;34m\u001b[0m\u001b[0;34m\u001b[0m\u001b[0m\n\u001b[0;32m--> 148\u001b[0;31m             \u001b[0mmainQN\u001b[0m\u001b[0;34m.\u001b[0m\u001b[0mreplay\u001b[0m\u001b[0;34m(\u001b[0m\u001b[0mmemory\u001b[0m\u001b[0;34m,\u001b[0m \u001b[0mbatch_size\u001b[0m\u001b[0;34m,\u001b[0m \u001b[0mgamma\u001b[0m\u001b[0;34m,\u001b[0m \u001b[0mtargetQN\u001b[0m\u001b[0;34m)\u001b[0m\u001b[0;34m\u001b[0m\u001b[0;34m\u001b[0m\u001b[0m\n\u001b[0m\u001b[1;32m    149\u001b[0m \u001b[0;34m\u001b[0m\u001b[0m\n\u001b[1;32m    150\u001b[0m         \u001b[0;32mif\u001b[0m \u001b[0mDQN_MODE\u001b[0m\u001b[0;34m:\u001b[0m\u001b[0;34m\u001b[0m\u001b[0;34m\u001b[0m\u001b[0m\n",
      "\u001b[0;32m<ipython-input-1-719235e88620>\u001b[0m in \u001b[0;36mreplay\u001b[0;34m(self, memory, batch_size, gamma, targetQN)\u001b[0m\n\u001b[1;32m     45\u001b[0m                 \u001b[0mtarget\u001b[0m \u001b[0;34m=\u001b[0m \u001b[0mreward_b\u001b[0m \u001b[0;34m+\u001b[0m \u001b[0mgamma\u001b[0m \u001b[0;34m*\u001b[0m \u001b[0mtargetQN\u001b[0m\u001b[0;34m.\u001b[0m\u001b[0mmodel\u001b[0m\u001b[0;34m.\u001b[0m\u001b[0mpredict\u001b[0m\u001b[0;34m(\u001b[0m\u001b[0mnext_state_b\u001b[0m\u001b[0;34m)\u001b[0m\u001b[0;34m[\u001b[0m\u001b[0;36m0\u001b[0m\u001b[0;34m]\u001b[0m\u001b[0;34m[\u001b[0m\u001b[0mnext_action\u001b[0m\u001b[0;34m]\u001b[0m\u001b[0;34m\u001b[0m\u001b[0;34m\u001b[0m\u001b[0m\n\u001b[1;32m     46\u001b[0m \u001b[0;34m\u001b[0m\u001b[0m\n\u001b[0;32m---> 47\u001b[0;31m             \u001b[0mtargets\u001b[0m\u001b[0;34m[\u001b[0m\u001b[0mi\u001b[0m\u001b[0;34m]\u001b[0m \u001b[0;34m=\u001b[0m \u001b[0mself\u001b[0m\u001b[0;34m.\u001b[0m\u001b[0mmodel\u001b[0m\u001b[0;34m.\u001b[0m\u001b[0mpredict\u001b[0m\u001b[0;34m(\u001b[0m\u001b[0mstate_b\u001b[0m\u001b[0;34m)\u001b[0m    \u001b[0;31m# Qネットワークの出力\u001b[0m\u001b[0;34m\u001b[0m\u001b[0;34m\u001b[0m\u001b[0m\n\u001b[0m\u001b[1;32m     48\u001b[0m             \u001b[0mtargets\u001b[0m\u001b[0;34m[\u001b[0m\u001b[0mi\u001b[0m\u001b[0;34m]\u001b[0m\u001b[0;34m[\u001b[0m\u001b[0maction_b\u001b[0m\u001b[0;34m]\u001b[0m \u001b[0;34m=\u001b[0m \u001b[0mtarget\u001b[0m               \u001b[0;31m# 教師信号\u001b[0m\u001b[0;34m\u001b[0m\u001b[0;34m\u001b[0m\u001b[0m\n\u001b[1;32m     49\u001b[0m             \u001b[0mself\u001b[0m\u001b[0;34m.\u001b[0m\u001b[0mmodel\u001b[0m\u001b[0;34m.\u001b[0m\u001b[0mfit\u001b[0m\u001b[0;34m(\u001b[0m\u001b[0minputs\u001b[0m\u001b[0;34m,\u001b[0m \u001b[0mtargets\u001b[0m\u001b[0;34m,\u001b[0m \u001b[0mepochs\u001b[0m\u001b[0;34m=\u001b[0m\u001b[0;36m1\u001b[0m\u001b[0;34m,\u001b[0m \u001b[0mverbose\u001b[0m\u001b[0;34m=\u001b[0m\u001b[0;36m0\u001b[0m\u001b[0;34m)\u001b[0m  \u001b[0;31m# epochsは訓練データの反復回数、verbose=0は表示なしの設定\u001b[0m\u001b[0;34m\u001b[0m\u001b[0;34m\u001b[0m\u001b[0m\n",
      "\u001b[0;32m/usr/local/var/pyenv/versions/3.6.7/lib/python3.6/site-packages/keras/engine/training.py\u001b[0m in \u001b[0;36mpredict\u001b[0;34m(self, x, batch_size, verbose, steps)\u001b[0m\n\u001b[1;32m   1167\u001b[0m                                             \u001b[0mbatch_size\u001b[0m\u001b[0;34m=\u001b[0m\u001b[0mbatch_size\u001b[0m\u001b[0;34m,\u001b[0m\u001b[0;34m\u001b[0m\u001b[0;34m\u001b[0m\u001b[0m\n\u001b[1;32m   1168\u001b[0m                                             \u001b[0mverbose\u001b[0m\u001b[0;34m=\u001b[0m\u001b[0mverbose\u001b[0m\u001b[0;34m,\u001b[0m\u001b[0;34m\u001b[0m\u001b[0;34m\u001b[0m\u001b[0m\n\u001b[0;32m-> 1169\u001b[0;31m                                             steps=steps)\n\u001b[0m\u001b[1;32m   1170\u001b[0m \u001b[0;34m\u001b[0m\u001b[0m\n\u001b[1;32m   1171\u001b[0m     def train_on_batch(self, x, y,\n",
      "\u001b[0;32m/usr/local/var/pyenv/versions/3.6.7/lib/python3.6/site-packages/keras/engine/training_arrays.py\u001b[0m in \u001b[0;36mpredict_loop\u001b[0;34m(model, f, ins, batch_size, verbose, steps)\u001b[0m\n\u001b[1;32m    292\u001b[0m                 \u001b[0mins_batch\u001b[0m\u001b[0;34m[\u001b[0m\u001b[0mi\u001b[0m\u001b[0;34m]\u001b[0m \u001b[0;34m=\u001b[0m \u001b[0mins_batch\u001b[0m\u001b[0;34m[\u001b[0m\u001b[0mi\u001b[0m\u001b[0;34m]\u001b[0m\u001b[0;34m.\u001b[0m\u001b[0mtoarray\u001b[0m\u001b[0;34m(\u001b[0m\u001b[0;34m)\u001b[0m\u001b[0;34m\u001b[0m\u001b[0;34m\u001b[0m\u001b[0m\n\u001b[1;32m    293\u001b[0m \u001b[0;34m\u001b[0m\u001b[0m\n\u001b[0;32m--> 294\u001b[0;31m             \u001b[0mbatch_outs\u001b[0m \u001b[0;34m=\u001b[0m \u001b[0mf\u001b[0m\u001b[0;34m(\u001b[0m\u001b[0mins_batch\u001b[0m\u001b[0;34m)\u001b[0m\u001b[0;34m\u001b[0m\u001b[0;34m\u001b[0m\u001b[0m\n\u001b[0m\u001b[1;32m    295\u001b[0m             \u001b[0mbatch_outs\u001b[0m \u001b[0;34m=\u001b[0m \u001b[0mto_list\u001b[0m\u001b[0;34m(\u001b[0m\u001b[0mbatch_outs\u001b[0m\u001b[0;34m)\u001b[0m\u001b[0;34m\u001b[0m\u001b[0;34m\u001b[0m\u001b[0m\n\u001b[1;32m    296\u001b[0m             \u001b[0;32mif\u001b[0m \u001b[0mbatch_index\u001b[0m \u001b[0;34m==\u001b[0m \u001b[0;36m0\u001b[0m\u001b[0;34m:\u001b[0m\u001b[0;34m\u001b[0m\u001b[0;34m\u001b[0m\u001b[0m\n",
      "\u001b[0;32m/usr/local/var/pyenv/versions/3.6.7/lib/python3.6/site-packages/keras/backend/tensorflow_backend.py\u001b[0m in \u001b[0;36m__call__\u001b[0;34m(self, inputs)\u001b[0m\n\u001b[1;32m   2713\u001b[0m                 \u001b[0;32mreturn\u001b[0m \u001b[0mself\u001b[0m\u001b[0;34m.\u001b[0m\u001b[0m_legacy_call\u001b[0m\u001b[0;34m(\u001b[0m\u001b[0minputs\u001b[0m\u001b[0;34m)\u001b[0m\u001b[0;34m\u001b[0m\u001b[0;34m\u001b[0m\u001b[0m\n\u001b[1;32m   2714\u001b[0m \u001b[0;34m\u001b[0m\u001b[0m\n\u001b[0;32m-> 2715\u001b[0;31m             \u001b[0;32mreturn\u001b[0m \u001b[0mself\u001b[0m\u001b[0;34m.\u001b[0m\u001b[0m_call\u001b[0m\u001b[0;34m(\u001b[0m\u001b[0minputs\u001b[0m\u001b[0;34m)\u001b[0m\u001b[0;34m\u001b[0m\u001b[0;34m\u001b[0m\u001b[0m\n\u001b[0m\u001b[1;32m   2716\u001b[0m         \u001b[0;32melse\u001b[0m\u001b[0;34m:\u001b[0m\u001b[0;34m\u001b[0m\u001b[0;34m\u001b[0m\u001b[0m\n\u001b[1;32m   2717\u001b[0m             \u001b[0;32mif\u001b[0m \u001b[0mpy_any\u001b[0m\u001b[0;34m(\u001b[0m\u001b[0mis_tensor\u001b[0m\u001b[0;34m(\u001b[0m\u001b[0mx\u001b[0m\u001b[0;34m)\u001b[0m \u001b[0;32mfor\u001b[0m \u001b[0mx\u001b[0m \u001b[0;32min\u001b[0m \u001b[0minputs\u001b[0m\u001b[0;34m)\u001b[0m\u001b[0;34m:\u001b[0m\u001b[0;34m\u001b[0m\u001b[0;34m\u001b[0m\u001b[0m\n",
      "\u001b[0;32m/usr/local/var/pyenv/versions/3.6.7/lib/python3.6/site-packages/keras/backend/tensorflow_backend.py\u001b[0m in \u001b[0;36m_call\u001b[0;34m(self, inputs)\u001b[0m\n\u001b[1;32m   2673\u001b[0m             \u001b[0mfetched\u001b[0m \u001b[0;34m=\u001b[0m \u001b[0mself\u001b[0m\u001b[0;34m.\u001b[0m\u001b[0m_callable_fn\u001b[0m\u001b[0;34m(\u001b[0m\u001b[0;34m*\u001b[0m\u001b[0marray_vals\u001b[0m\u001b[0;34m,\u001b[0m \u001b[0mrun_metadata\u001b[0m\u001b[0;34m=\u001b[0m\u001b[0mself\u001b[0m\u001b[0;34m.\u001b[0m\u001b[0mrun_metadata\u001b[0m\u001b[0;34m)\u001b[0m\u001b[0;34m\u001b[0m\u001b[0;34m\u001b[0m\u001b[0m\n\u001b[1;32m   2674\u001b[0m         \u001b[0;32melse\u001b[0m\u001b[0;34m:\u001b[0m\u001b[0;34m\u001b[0m\u001b[0;34m\u001b[0m\u001b[0m\n\u001b[0;32m-> 2675\u001b[0;31m             \u001b[0mfetched\u001b[0m \u001b[0;34m=\u001b[0m \u001b[0mself\u001b[0m\u001b[0;34m.\u001b[0m\u001b[0m_callable_fn\u001b[0m\u001b[0;34m(\u001b[0m\u001b[0;34m*\u001b[0m\u001b[0marray_vals\u001b[0m\u001b[0;34m)\u001b[0m\u001b[0;34m\u001b[0m\u001b[0;34m\u001b[0m\u001b[0m\n\u001b[0m\u001b[1;32m   2676\u001b[0m         \u001b[0;32mreturn\u001b[0m \u001b[0mfetched\u001b[0m\u001b[0;34m[\u001b[0m\u001b[0;34m:\u001b[0m\u001b[0mlen\u001b[0m\u001b[0;34m(\u001b[0m\u001b[0mself\u001b[0m\u001b[0;34m.\u001b[0m\u001b[0moutputs\u001b[0m\u001b[0;34m)\u001b[0m\u001b[0;34m]\u001b[0m\u001b[0;34m\u001b[0m\u001b[0;34m\u001b[0m\u001b[0m\n\u001b[1;32m   2677\u001b[0m \u001b[0;34m\u001b[0m\u001b[0m\n",
      "\u001b[0;32m/usr/local/var/pyenv/versions/3.6.7/lib/python3.6/site-packages/tensorflow/python/client/session.py\u001b[0m in \u001b[0;36m__call__\u001b[0;34m(self, *args, **kwargs)\u001b[0m\n\u001b[1;32m   1437\u001b[0m           ret = tf_session.TF_SessionRunCallable(\n\u001b[1;32m   1438\u001b[0m               \u001b[0mself\u001b[0m\u001b[0;34m.\u001b[0m\u001b[0m_session\u001b[0m\u001b[0;34m.\u001b[0m\u001b[0m_session\u001b[0m\u001b[0;34m,\u001b[0m \u001b[0mself\u001b[0m\u001b[0;34m.\u001b[0m\u001b[0m_handle\u001b[0m\u001b[0;34m,\u001b[0m \u001b[0margs\u001b[0m\u001b[0;34m,\u001b[0m \u001b[0mstatus\u001b[0m\u001b[0;34m,\u001b[0m\u001b[0;34m\u001b[0m\u001b[0;34m\u001b[0m\u001b[0m\n\u001b[0;32m-> 1439\u001b[0;31m               run_metadata_ptr)\n\u001b[0m\u001b[1;32m   1440\u001b[0m         \u001b[0;32mif\u001b[0m \u001b[0mrun_metadata\u001b[0m\u001b[0;34m:\u001b[0m\u001b[0;34m\u001b[0m\u001b[0;34m\u001b[0m\u001b[0m\n\u001b[1;32m   1441\u001b[0m           \u001b[0mproto_data\u001b[0m \u001b[0;34m=\u001b[0m \u001b[0mtf_session\u001b[0m\u001b[0;34m.\u001b[0m\u001b[0mTF_GetBuffer\u001b[0m\u001b[0;34m(\u001b[0m\u001b[0mrun_metadata_ptr\u001b[0m\u001b[0;34m)\u001b[0m\u001b[0;34m\u001b[0m\u001b[0;34m\u001b[0m\u001b[0m\n",
      "\u001b[0;31mKeyboardInterrupt\u001b[0m: "
     ]
    }
   ],
   "source": [
    "# coding:utf-8\n",
    "# [0]必要なライブラリのインポート\n",
    "import gym  # 倒立振子(cartpole)の実行環境\n",
    "import numpy as np\n",
    "import time\n",
    "from keras.models import Sequential\n",
    "from keras.layers import Dense\n",
    "from keras.optimizers import Adam\n",
    "from keras.utils import plot_model\n",
    "from collections import deque\n",
    "from gym import wrappers  # gymの画像保存\n",
    "from keras import backend as K\n",
    "\n",
    "# [1]損失関数の定義\n",
    "# 損失関数に関数を使用します\n",
    "def huberloss(y_true, y_pred):\n",
    "    return K.mean(K.minimum(0.5*K.square(y_pred-y_true), K.abs(y_pred-y_true)-0.5), axis=1)\n",
    "\n",
    "\n",
    "# [2]Q関数をディープラーニングのネットワークをクラスとして定義\n",
    "class QNetwork:\n",
    "    def __init__(self, learning_rate=0.01, state_size=4, action_size=2, hidden_size=10):\n",
    "        self.model = Sequential()\n",
    "        self.model.add(Dense(hidden_size, activation='relu', input_dim=state_size))\n",
    "        self.model.add(Dense(hidden_size, activation='relu'))\n",
    "        self.model.add(Dense(action_size, activation='linear'))\n",
    "        self.optimizer = Adam(lr=learning_rate)  # 誤差を減らす学習方法はAdam\n",
    "        # self.model.compile(loss='mse', optimizer=self.optimizer)\n",
    "        self.model.compile(loss=huberloss, optimizer=self.optimizer)\n",
    "\n",
    "    # 重みの学習\n",
    "    def replay(self, memory, batch_size, gamma, targetQN):\n",
    "        inputs = np.zeros((batch_size, 4))\n",
    "        targets = np.zeros((batch_size, 2))\n",
    "        mini_batch = memory.sample(batch_size)\n",
    "\n",
    "        for i, (state_b, action_b, reward_b, next_state_b) in enumerate(mini_batch):\n",
    "            inputs[i:i + 1] = state_b\n",
    "            target = reward_b\n",
    "\n",
    "            if not (next_state_b == np.zeros(state_b.shape)).all(axis=1):\n",
    "                # 価値計算（DDQNにも対応できるように、行動決定のQネットワークと価値観数のQネットワークは分離）\n",
    "                retmainQs = self.model.predict(next_state_b)[0]\n",
    "                next_action = np.argmax(retmainQs)  # 最大の報酬を返す行動を選択する\n",
    "                target = reward_b + gamma * targetQN.model.predict(next_state_b)[0][next_action]\n",
    "                \n",
    "            targets[i] = self.model.predict(state_b)    # Qネットワークの出力\n",
    "            targets[i][action_b] = target               # 教師信号\n",
    "            self.model.fit(inputs, targets, epochs=1, verbose=0)  # epochsは訓練データの反復回数、verbose=0は表示なしの設定\n",
    "\n",
    "\n",
    "# [3]Experience ReplayとFixed Target Q-Networkを実現するメモリクラス\n",
    "class Memory:\n",
    "    def __init__(self, max_size=1000):\n",
    "        self.buffer = deque(maxlen=max_size)\n",
    "\n",
    "    def add(self, experience):\n",
    "        self.buffer.append(experience)\n",
    "\n",
    "    def sample(self, batch_size):\n",
    "        idx = np.random.choice(np.arange(len(self.buffer)), size=batch_size, replace=False)\n",
    "        return [self.buffer[ii] for ii in idx]\n",
    "\n",
    "    def len(self):\n",
    "        return len(self.buffer)\n",
    "\n",
    "\n",
    "# [4]カートの状態に応じて、行動を決定するクラス\n",
    "class Actor:\n",
    "    def get_action(self, state, episode, targetQN):   # [C]ｔ＋１での行動を返す\n",
    "        # 徐々に最適行動のみをとる、ε-greedy法\n",
    "        epsilon = 0.001 + 0.9 / (1.0+episode)\n",
    "\n",
    "        if epsilon <= np.random.uniform(0, 1):\n",
    "            retTargetQs = targetQN.model.predict(state)[0]\n",
    "            action = np.argmax(retTargetQs)  # 最大の報酬を返す行動を選択する\n",
    "\n",
    "        else:\n",
    "            action = np.random.choice([0, 1])  # ランダムに行動する\n",
    "\n",
    "        return action\n",
    "\n",
    "\n",
    "# [5] メイン関数開始----------------------------------------------------\n",
    "# [5.1] 初期設定--------------------------------------------------------\n",
    "DQN_MODE = 1    # 1がDQN、0がDDQNです\n",
    "LENDER_MODE = 1 # 0は学習後も描画なし、1は学習終了後に描画する\n",
    "\n",
    "env = gym.make('CartPole-v0')\n",
    "num_episodes = 299  # 総試行回数\n",
    "max_number_of_steps = 200  # 1試行のstep数\n",
    "goal_average_reward = 195  # この報酬を超えると学習終了\n",
    "num_consecutive_iterations = 10  # 学習完了評価の平均計算を行う試行回数\n",
    "total_reward_vec = np.zeros(num_consecutive_iterations)  # 各試行の報酬を格納\n",
    "gamma = 0.99    # 割引係数\n",
    "islearned = 0  # 学習が終わったフラグ\n",
    "isrender = 0  # 描画フラグ\n",
    "# ---\n",
    "hidden_size = 16               # Q-networkの隠れ層のニューロンの数\n",
    "learning_rate = 0.00001         # Q-networkの学習係数\n",
    "memory_size = 10000            # バッファーメモリの大きさ\n",
    "batch_size = 32                # Q-networkを更新するバッチの大記載\n",
    "\n",
    "# [5.2]Qネットワークとメモリ、Actorの生成--------------------------------------------------------\n",
    "mainQN = QNetwork(hidden_size=hidden_size, learning_rate=learning_rate)     # メインのQネットワーク\n",
    "targetQN = QNetwork(hidden_size=hidden_size, learning_rate=learning_rate)   # 価値を計算するQネットワーク\n",
    "# plot_model(mainQN.model, to_file='Qnetwork.png', show_shapes=True)        # Qネットワークの可視化\n",
    "memory = Memory(max_size=memory_size)\n",
    "actor = Actor()\n",
    "\n",
    "# [5.3]メインルーチン--------------------------------------------------------\n",
    "for episode in range(num_episodes):  # 試行数分繰り返す\n",
    "    env.reset()  # cartPoleの環境初期化\n",
    "    state, reward, done, _ = env.step(env.action_space.sample())  # 1step目は適当な行動をとる\n",
    "    state = np.reshape(state, [1, 4])   # list型のstateを、1行4列の行列に変換\n",
    "    episode_reward = 0\n",
    "\n",
    "    targetQN = mainQN   # 行動決定と価値計算のQネットワークをおなじにする\n",
    "\n",
    "    for t in range(max_number_of_steps + 1):  # 1試行のループ\n",
    "        if (islearned == 1) and LENDER_MODE:  # 学習終了したらcartPoleを描画する\n",
    "            env.render()\n",
    "            time.sleep(0.1)\n",
    "            print(state[0, 0])  # カートのx位置を出力するならコメントはずす\n",
    "\n",
    "        action = actor.get_action(state, episode, mainQN)   # 時刻tでの行動を決定する\n",
    "        next_state, reward, done, info = env.step(action)   # 行動a_tの実行による、s_{t+1}, _R{t}を計算する\n",
    "        next_state = np.reshape(next_state, [1, 4])     # list型のstateを、1行4列の行列に変換\n",
    "\n",
    "        # 報酬を設定し、与える\n",
    "        if done:\n",
    "            next_state = np.zeros(state.shape)  # 次の状態s_{t+1}はない\n",
    "            if t < 195:\n",
    "                reward = -1  # 報酬クリッピング、報酬は1, 0, -1に固定\n",
    "            else:\n",
    "                reward = 1  # 立ったまま195step超えて終了時は報酬\n",
    "        else:\n",
    "            reward = 0  # 各ステップで立ってたら報酬追加（はじめからrewardに1が入っているが、明示的に表す）\n",
    "\n",
    "        episode_reward += 1 # reward  # 合計報酬を更新\n",
    "\n",
    "        memory.add((state, action, reward, next_state))     # メモリの更新する\n",
    "        state = next_state  # 状態更新\n",
    "\n",
    "\n",
    "        # Qネットワークの重みを学習・更新する replay\n",
    "        if (memory.len() > batch_size) and not islearned:\n",
    "            mainQN.replay(memory, batch_size, gamma, targetQN)\n",
    "\n",
    "        if DQN_MODE:\n",
    "            targetQN = mainQN  # 行動決定と価値計算のQネットワークをおなじにする\n",
    "\n",
    "        # 1施行終了時の処理\n",
    "        if done:\n",
    "            total_reward_vec = np.hstack((total_reward_vec[1:], episode_reward))  # 報酬を記録\n",
    "            print('%d Episode finished after %f time steps / mean %f' % (episode, t + 1, total_reward_vec.mean()))\n",
    "            break\n",
    "\n",
    "    # 複数施行の平均報酬で終了を判断\n",
    "    if total_reward_vec.mean() >= goal_average_reward:\n",
    "        print('Episode %d train agent successfuly!' % episode)\n",
    "        islearned = 1\n",
    "        if isrender == 0:   # 学習済みフラグを更新\n",
    "            isrender = 1\n",
    "\n",
    "            # env = wrappers.Monitor(env, './movie/cartpoleDDQN')  # 動画保存する場合\n",
    "            # 10エピソードだけでどんな挙動になるのか見たかったら、以下のコメントを外す\n",
    "            # if episode>10:\n",
    "            #    if isrender == 0:\n",
    "            #        env = wrappers.Monitor(env, './movie/cartpole-experiment-1') #動画保存する場合\n",
    "            #        isrender = 1\n",
    "            #    islearned=1;"
   ]
  },
  {
   "cell_type": "code",
   "execution_count": null,
   "metadata": {},
   "outputs": [],
   "source": [
    "import gym  # 倒立振子(cartpole)の実行環境\n",
    "import numpy as np"
   ]
  },
  {
   "cell_type": "code",
   "execution_count": null,
   "metadata": {},
   "outputs": [],
   "source": [
    "a = np.array([\n",
    " [0.01746955, 0.02923417],\n",
    " [0.01234699, 0.01731607],\n",
    " [0.01841538, 0.04858094],\n",
    " [0.01404302, 0.02316175],\n",
    " [0.02316418, 0.04426938],\n",
    " [0.00649112, 0.01174777]])"
   ]
  },
  {
   "cell_type": "code",
   "execution_count": null,
   "metadata": {},
   "outputs": [],
   "source": [
    "np.max(a,axis=1)"
   ]
  },
  {
   "cell_type": "code",
   "execution_count": null,
   "metadata": {},
   "outputs": [],
   "source": [
    "a = [1]*1000000000"
   ]
  },
  {
   "cell_type": "code",
   "execution_count": null,
   "metadata": {},
   "outputs": [],
   "source": [
    "a.pop(-1)"
   ]
  },
  {
   "cell_type": "code",
   "execution_count": null,
   "metadata": {},
   "outputs": [],
   "source": [
    "np.argmax(a,axis=1)"
   ]
  },
  {
   "cell_type": "code",
   "execution_count": null,
   "metadata": {},
   "outputs": [],
   "source": [
    "np.max(a,axis=1)"
   ]
  },
  {
   "cell_type": "code",
   "execution_count": null,
   "metadata": {},
   "outputs": [],
   "source": [
    "env = gym.make('CartPole-v0')"
   ]
  },
  {
   "cell_type": "code",
   "execution_count": null,
   "metadata": {},
   "outputs": [],
   "source": [
    "observation = env.reset()\n",
    "#env.render()"
   ]
  },
  {
   "cell_type": "code",
   "execution_count": null,
   "metadata": {},
   "outputs": [],
   "source": [
    "action=0\n",
    "env.step(action)\n",
    "\n",
    "#env.render()"
   ]
  },
  {
   "cell_type": "code",
   "execution_count": null,
   "metadata": {},
   "outputs": [],
   "source": [
    "observation"
   ]
  },
  {
   "cell_type": "code",
   "execution_count": null,
   "metadata": {},
   "outputs": [],
   "source": [
    "reward"
   ]
  },
  {
   "cell_type": "code",
   "execution_count": null,
   "metadata": {},
   "outputs": [],
   "source": [
    "np.random.choice([0, 1])"
   ]
  },
  {
   "cell_type": "code",
   "execution_count": null,
   "metadata": {},
   "outputs": [],
   "source": [
    "done"
   ]
  },
  {
   "cell_type": "code",
   "execution_count": null,
   "metadata": {},
   "outputs": [],
   "source": [
    "info"
   ]
  },
  {
   "cell_type": "code",
   "execution_count": null,
   "metadata": {},
   "outputs": [],
   "source": [
    "action=1\n",
    "observation, reward, done, info = env.step(action)\n",
    "env.render()"
   ]
  },
  {
   "cell_type": "code",
   "execution_count": null,
   "metadata": {},
   "outputs": [],
   "source": [
    "import numpy as np"
   ]
  },
  {
   "cell_type": "code",
   "execution_count": null,
   "metadata": {},
   "outputs": [],
   "source": [
    "zeros = np.zeros(100000000).astype(bool)\n",
    "zeros[70896786] = True\n",
    "zeros[80896786] = True\n",
    "zeros[90896786] = True"
   ]
  },
  {
   "cell_type": "code",
   "execution_count": null,
   "metadata": {},
   "outputs": [],
   "source": [
    "np.nonzero(zeros==True)[0][0]"
   ]
  },
  {
   "cell_type": "code",
   "execution_count": null,
   "metadata": {},
   "outputs": [],
   "source": [
    "np.nonzero(zeros==False)[0][0]"
   ]
  },
  {
   "cell_type": "code",
   "execution_count": null,
   "metadata": {},
   "outputs": [],
   "source": [
    "np.argwhere(zeros==False)[0][0]"
   ]
  },
  {
   "cell_type": "code",
   "execution_count": null,
   "metadata": {},
   "outputs": [],
   "source": [
    "zeros[np.random.randint(0,100000000,size=10)]"
   ]
  }
 ],
 "metadata": {
  "kernelspec": {
   "display_name": "Python 3",
   "language": "python",
   "name": "python3"
  },
  "language_info": {
   "codemirror_mode": {
    "name": "ipython",
    "version": 3
   },
   "file_extension": ".py",
   "mimetype": "text/x-python",
   "name": "python",
   "nbconvert_exporter": "python",
   "pygments_lexer": "ipython3",
   "version": "3.6.7"
  }
 },
 "nbformat": 4,
 "nbformat_minor": 2
}
